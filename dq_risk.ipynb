{
 "cells": [
  {
   "cell_type": "code",
   "execution_count": 1,
   "metadata": {},
   "outputs": [
    {
     "name": "stderr",
     "output_type": "stream",
     "text": [
      "Using TensorFlow backend.\n"
     ]
    }
   ],
   "source": [
    "from gridworld import *\n",
    "import numpy as np\n",
    "import matplotlib.pyplot as plt\n",
    "from keras.models import Sequential;\n",
    "from keras.layers import Dense, Activation;\n",
    "from keras import initializers;\n",
    "from keras.optimizers import Adam, SGD;\n",
    "from keras import backend as K\n",
    "import pandas as pd\n",
    "from tqdm import tqdm, trange\n",
    "%matplotlib inline\n",
    "#Deep Q-Learning with Risk\n",
    "\n",
    "#gw = gridworld((5, 5), (0, 0), (4, 0), [(o, 0) for o in range(4)], 0.9, 0, 1, 0)\n",
    "gw = gridworld((5, 5), (0, 0), (4, 0), [(o, 0) for o in range(1, 4)], 0.9, 0, 1, 0)\n",
    "# Discount Rate\n",
    "gamma = 0.95"
   ]
  },
  {
   "cell_type": "code",
   "execution_count": 3,
   "metadata": {},
   "outputs": [
    {
     "data": {
      "text/plain": [
       "0.034354981311714966"
      ]
     },
     "execution_count": 3,
     "metadata": {},
     "output_type": "execute_result"
    },
    {
     "data": {
      "text/plain": [
       "1.7357588823428847"
      ]
     },
     "execution_count": 3,
     "metadata": {},
     "output_type": "execute_result"
    }
   ],
   "source": [
    "def loss(Qtarget, Q):\n",
    "    return K.sum(K.square(Qtarget - Q))\n",
    "\n",
    "def state_tup_to_num(state_tup):\n",
    "\tstate_num = state_tup[0]*gw.M + state_tup[1]\n",
    "\treturn state_num\n",
    "\n",
    "def state_num_to_tup(state_num):\n",
    "\tstate_tup = (state_num/gw.M, state_num%gw.M)\n",
    "\treturn state_tup\n",
    "\n",
    "\n",
    "\n",
    "risk_states = np.zeros((gw.M, gw.N))\n",
    "def dist_error_state(state, error_state):\n",
    "    return ( np.sqrt( (state[0] - error_state[0])**2 + (state[1] - error_state[1])**2 ) )\n",
    "for i in range(gw.M):\n",
    "    for j in range(gw.N):\n",
    "#         if (i, j) in error_states:\n",
    "#             risk_states[i,j] == 0.\n",
    "#         if (i, j) == goal:\n",
    "#             risk_states[i,j] == 0.\n",
    "#         else:\n",
    "        sm = 0.\n",
    "        for e in gw.error_states:\n",
    "            sm += np.exp( - dist_error_state([i,j], e) )\n",
    "        risk_states[i,j] = sm\n",
    "np.min(risk_states)\n",
    "np.max(risk_states)\n",
    "risk_states = (risk_states - np.min(risk_states))/(np.max(risk_states) - np.min(risk_states))"
   ]
  },
  {
   "cell_type": "code",
   "execution_count": 8,
   "metadata": {},
   "outputs": [
    {
     "name": "stderr",
     "output_type": "stream",
     "text": [
      "  0%|          | 0/1000 [00:00<?, ?it/s]/usr/local/lib/python2.7/dist-packages/ipykernel_launcher.py:81: RuntimeWarning: divide by zero encountered in double_scalars\n",
      "100%|██████████| 1000/1000 [00:34<00:00, 29.33it/s]"
     ]
    },
    {
     "name": "stdout",
     "output_type": "stream",
     "text": [
      "\n",
      "Successful episodes: 0.02\n"
     ]
    },
    {
     "name": "stderr",
     "output_type": "stream",
     "text": [
      "\n"
     ]
    },
    {
     "data": {
      "text/plain": [
       "<Figure size 648x1152 with 0 Axes>"
      ]
     },
     "execution_count": 8,
     "metadata": {},
     "output_type": "execute_result"
    },
    {
     "data": {
      "text/plain": [
       "<matplotlib.axes._subplots.AxesSubplot at 0x7f6bd0233b10>"
      ]
     },
     "execution_count": 8,
     "metadata": {},
     "output_type": "execute_result"
    },
    {
     "data": {
      "text/plain": [
       "[<matplotlib.lines.Line2D at 0x7f6bd0149e90>]"
      ]
     },
     "execution_count": 8,
     "metadata": {},
     "output_type": "execute_result"
    },
    {
     "data": {
      "text/plain": [
       "Text(0.5,1,'Step Moving Average (100-episode window)')"
      ]
     },
     "execution_count": 8,
     "metadata": {},
     "output_type": "execute_result"
    },
    {
     "data": {
      "text/plain": [
       "Text(0,0.5,'Moves')"
      ]
     },
     "execution_count": 8,
     "metadata": {},
     "output_type": "execute_result"
    },
    {
     "data": {
      "text/plain": [
       "Text(0.5,0,'Episode')"
      ]
     },
     "execution_count": 8,
     "metadata": {},
     "output_type": "execute_result"
    },
    {
     "data": {
      "text/plain": [
       "<matplotlib.axes._subplots.AxesSubplot at 0x7f6bd0149d90>"
      ]
     },
     "execution_count": 8,
     "metadata": {},
     "output_type": "execute_result"
    },
    {
     "data": {
      "text/plain": [
       "[<matplotlib.lines.Line2D at 0x7f6bd0149ed0>]"
      ]
     },
     "execution_count": 8,
     "metadata": {},
     "output_type": "execute_result"
    },
    {
     "data": {
      "text/plain": [
       "Text(0.5,1,'Reward Moving Average (100-episode window)')"
      ]
     },
     "execution_count": 8,
     "metadata": {},
     "output_type": "execute_result"
    },
    {
     "data": {
      "text/plain": [
       "Text(0,0.5,'Reward')"
      ]
     },
     "execution_count": 8,
     "metadata": {},
     "output_type": "execute_result"
    },
    {
     "data": {
      "text/plain": [
       "Text(0.5,0,'Episode')"
      ]
     },
     "execution_count": 8,
     "metadata": {},
     "output_type": "execute_result"
    },
    {
     "data": {
      "text/plain": [
       "<matplotlib.axes._subplots.AxesSubplot at 0x7f6bd016eb50>"
      ]
     },
     "execution_count": 8,
     "metadata": {},
     "output_type": "execute_result"
    },
    {
     "data": {
      "text/plain": [
       "[<matplotlib.lines.Line2D at 0x7f6bd00cc250>]"
      ]
     },
     "execution_count": 8,
     "metadata": {},
     "output_type": "execute_result"
    },
    {
     "data": {
      "text/plain": [
       "Text(0.5,1,'Loss Moving Average (100-episode window)')"
      ]
     },
     "execution_count": 8,
     "metadata": {},
     "output_type": "execute_result"
    },
    {
     "data": {
      "text/plain": [
       "Text(0,0.5,'Loss')"
      ]
     },
     "execution_count": 8,
     "metadata": {},
     "output_type": "execute_result"
    },
    {
     "data": {
      "text/plain": [
       "Text(0.5,0,'Episode')"
      ]
     },
     "execution_count": 8,
     "metadata": {},
     "output_type": "execute_result"
    },
    {
     "data": {
      "text/plain": [
       "<matplotlib.axes._subplots.AxesSubplot at 0x7f6bd0113050>"
      ]
     },
     "execution_count": 8,
     "metadata": {},
     "output_type": "execute_result"
    },
    {
     "data": {
      "text/plain": [
       "[<matplotlib.lines.Line2D at 0x7f6bd0087490>]"
      ]
     },
     "execution_count": 8,
     "metadata": {},
     "output_type": "execute_result"
    },
    {
     "data": {
      "text/plain": [
       "Text(0.5,1,'Random Action Parameter')"
      ]
     },
     "execution_count": 8,
     "metadata": {},
     "output_type": "execute_result"
    },
    {
     "data": {
      "text/plain": [
       "Text(0,0.5,'Chance Random Action')"
      ]
     },
     "execution_count": 8,
     "metadata": {},
     "output_type": "execute_result"
    },
    {
     "data": {
      "text/plain": [
       "Text(0.5,0,'Episode')"
      ]
     },
     "execution_count": 8,
     "metadata": {},
     "output_type": "execute_result"
    },
    {
     "data": {
      "image/png": "[encoded data removed]",
      "text/plain": [
       "<Figure size 648x1152 with 4 Axes>"
      ]
     },
     "metadata": {
      "needs_background": "light"
     },
     "output_type": "display_data"
    },
    {
     "name": "stdout",
     "output_type": "stream",
     "text": [
      "Score over time: 0\n",
      "Final Q-Table Values\n"
     ]
    },
    {
     "data": {
      "text/html": [
       "<div>\n",
       "<style scoped>\n",
       "    .dataframe tbody tr th:only-of-type {\n",
       "        vertical-align: middle;\n",
       "    }\n",
       "\n",
       "    .dataframe tbody tr th {\n",
       "        vertical-align: top;\n",
       "    }\n",
       "\n",
       "    .dataframe thead th {\n",
       "        text-align: right;\n",
       "    }\n",
       "</style>\n",
       "<table border=\"1\" class=\"dataframe\">\n",
       "  <thead>\n",
       "    <tr style=\"text-align: right;\">\n",
       "      <th></th>\n",
       "      <th>0</th>\n",
       "      <th>1</th>\n",
       "      <th>2</th>\n",
       "      <th>3</th>\n",
       "      <th>4</th>\n",
       "    </tr>\n",
       "  </thead>\n",
       "  <tbody>\n",
       "    <tr>\n",
       "      <th>0</th>\n",
       "      <td>-26</td>\n",
       "      <td>-17.81</td>\n",
       "      <td>-13.50</td>\n",
       "      <td>-11.13</td>\n",
       "      <td>-4.72</td>\n",
       "    </tr>\n",
       "    <tr>\n",
       "      <th>1</th>\n",
       "      <td>E</td>\n",
       "      <td>-10.80</td>\n",
       "      <td>-10.49</td>\n",
       "      <td>-9.11</td>\n",
       "      <td>-7.31</td>\n",
       "    </tr>\n",
       "    <tr>\n",
       "      <th>2</th>\n",
       "      <td>E</td>\n",
       "      <td>-7.30</td>\n",
       "      <td>-8.00</td>\n",
       "      <td>-7.56</td>\n",
       "      <td>-7.18</td>\n",
       "    </tr>\n",
       "    <tr>\n",
       "      <th>3</th>\n",
       "      <td>E</td>\n",
       "      <td>-5.19</td>\n",
       "      <td>-6.47</td>\n",
       "      <td>-6.48</td>\n",
       "      <td>-5.74</td>\n",
       "    </tr>\n",
       "    <tr>\n",
       "      <th>4</th>\n",
       "      <td>G</td>\n",
       "      <td>-3.67</td>\n",
       "      <td>-5.09</td>\n",
       "      <td>-5.50</td>\n",
       "      <td>-2.66</td>\n",
       "    </tr>\n",
       "  </tbody>\n",
       "</table>\n",
       "</div>"
      ],
      "text/plain": [
       "    0      1      2      3     4\n",
       "0 -26 -17.81 -13.50 -11.13 -4.72\n",
       "1   E -10.80 -10.49  -9.11 -7.31\n",
       "2   E  -7.30  -8.00  -7.56 -7.18\n",
       "3   E  -5.19  -6.47  -6.48 -5.74\n",
       "4   G  -3.67  -5.09  -5.50 -2.66"
      ]
     },
     "metadata": {},
     "output_type": "display_data"
    },
    {
     "data": {
      "text/html": [
       "<div>\n",
       "<style scoped>\n",
       "    .dataframe tbody tr th:only-of-type {\n",
       "        vertical-align: middle;\n",
       "    }\n",
       "\n",
       "    .dataframe tbody tr th {\n",
       "        vertical-align: top;\n",
       "    }\n",
       "\n",
       "    .dataframe thead th {\n",
       "        text-align: right;\n",
       "    }\n",
       "</style>\n",
       "<table border=\"1\" class=\"dataframe\">\n",
       "  <thead>\n",
       "    <tr style=\"text-align: right;\">\n",
       "      <th></th>\n",
       "      <th>0</th>\n",
       "      <th>1</th>\n",
       "      <th>2</th>\n",
       "      <th>3</th>\n",
       "      <th>4</th>\n",
       "    </tr>\n",
       "  </thead>\n",
       "  <tbody>\n",
       "    <tr>\n",
       "      <th>0</th>\n",
       "      <td>⬅</td>\n",
       "      <td>➡</td>\n",
       "      <td>➡</td>\n",
       "      <td>➡</td>\n",
       "      <td>⬆</td>\n",
       "    </tr>\n",
       "    <tr>\n",
       "      <th>1</th>\n",
       "      <td>E</td>\n",
       "      <td>⬇</td>\n",
       "      <td>➡</td>\n",
       "      <td>⬇</td>\n",
       "      <td>⬆</td>\n",
       "    </tr>\n",
       "    <tr>\n",
       "      <th>2</th>\n",
       "      <td>E</td>\n",
       "      <td>⬅</td>\n",
       "      <td>➡</td>\n",
       "      <td>⬅</td>\n",
       "      <td>⬇</td>\n",
       "    </tr>\n",
       "    <tr>\n",
       "      <th>3</th>\n",
       "      <td>E</td>\n",
       "      <td>➡</td>\n",
       "      <td>⬇</td>\n",
       "      <td>⬇</td>\n",
       "      <td>⬇</td>\n",
       "    </tr>\n",
       "    <tr>\n",
       "      <th>4</th>\n",
       "      <td>G</td>\n",
       "      <td>⬅</td>\n",
       "      <td>⬅</td>\n",
       "      <td>⬇</td>\n",
       "      <td>➡</td>\n",
       "    </tr>\n",
       "  </tbody>\n",
       "</table>\n",
       "</div>"
      ],
      "text/plain": [
       "   0  1  2  3  4\n",
       "0  ⬅  ➡  ➡  ➡  ⬆\n",
       "1  E  ⬇  ➡  ⬇  ⬆\n",
       "2  E  ⬅  ➡  ⬅  ⬇\n",
       "3  E  ➡  ⬇  ⬇  ⬇\n",
       "4  G  ⬅  ⬅  ⬇  ➡"
      ]
     },
     "metadata": {},
     "output_type": "display_data"
    }
   ],
   "source": [
    "# Chance of random action\n",
    "e = 0.1\n",
    "learning_rate = 0.01\n",
    "# Training Episodes\n",
    "episodes = 1000\n",
    "# Max Steps per episode\n",
    "steps = 50\n",
    "factor = 100\n",
    "\n",
    "# Initialize history memory\n",
    "step_list = []\n",
    "reward_list = []\n",
    "loss_list = []\n",
    "e_list = []\n",
    "\n",
    "#Model\n",
    "initializer = initializers.random_uniform(0, 0.1, seed=1)\n",
    "model = Sequential([Dense(4, input_dim=gw.M*gw.N, \n",
    "                    kernel_initializer=initializer,\n",
    "                    use_bias=False\n",
    "                             )])\n",
    "model.compile(loss=loss, optimizer=Adam(lr=learning_rate))\n",
    "\n",
    "\n",
    "#Transform into one-hot vector\n",
    "def OH(l, x):\n",
    "    return np.identity(l)[x].reshape(1,l)\n",
    "\n",
    "\n",
    "for i in trange(episodes):\n",
    "    # Initialize\n",
    "    state = gw.reset()\n",
    "    reward_all = 0 #Reward counter\n",
    "    done = False\n",
    "    s = 0 #Step counter\n",
    "    l = 0 #Loss\n",
    "\n",
    "    for s in range(steps):\n",
    "        # Choose action randomly or through agent model\n",
    "        Q = model.predict(OH(gw.M*gw.N, state_tup_to_num(state)), batch_size=1)\n",
    "        if np.random.rand(1) < e:\n",
    "            action = np.random.choice([0,1,2,3])\n",
    "        else:\n",
    "            action = np.argmax(Q)\n",
    "\n",
    "        # Take action and obtain new state and reward    \n",
    "        new_state, reward, done = gw.step(action)\n",
    "\n",
    "        # Adjust reward if done without reaching end\n",
    "        #if done and reward == 0.0: reward = -1\n",
    "\n",
    "        # Find max-Q for future state\n",
    "        Q1 = model.predict(OH(gw.M*gw.N, state_tup_to_num(new_state)), batch_size=1)\n",
    "        maxQ1 = np.max(Q1)\n",
    "\n",
    "        # Bellman Equation\n",
    "        # Update target for training by adding reward for action and discounted max next state Q-value\n",
    "        targetQ = Q\n",
    "        targetQ[0, action] = reward + (gamma * maxQ1) -  factor * risk_states[state[0], state[1]]\n",
    "#         if new_state in gw.error_states:\n",
    "#             targetQ[0, action] -= 1\n",
    "            \n",
    "\n",
    "        # Train on target Q value\n",
    "        history = model.fit(OH(gw.M*gw.N, state_tup_to_num(state)), targetQ, verbose=False, batch_size=1)\n",
    "\n",
    "        # Update history and set current state\n",
    "        l += history.history['loss'][0]\n",
    "        reward_all += reward\n",
    "        state = new_state\n",
    "\n",
    "        if done == True:\n",
    "            # Reduce e if current episode is successful\n",
    "            if reward > 0: \n",
    "                e = 1./((i/50) + 10)\n",
    "            break\n",
    "\n",
    "    # Update history\n",
    "    step_list.append(s)\n",
    "    reward_list.append(reward_all)\n",
    "    loss_list.append(l/s)\n",
    "    e_list.append(e)\n",
    "print('\\nSuccessful episodes: {}'.format(np.sum(np.array(reward_list)>0.0)/float(episodes)))\n",
    "\n",
    "window = int(episodes/10)\n",
    "\n",
    "plt.figure(figsize=[9,16])\n",
    "plt.subplot(411)\n",
    "plt.plot(pd.Series(step_list).rolling(window).mean())\n",
    "plt.title('Step Moving Average ({}-episode window)'.format(window))\n",
    "plt.ylabel('Moves')\n",
    "plt.xlabel('Episode')\n",
    "\n",
    "plt.subplot(412)\n",
    "plt.plot(pd.Series(reward_list).rolling(window).mean())\n",
    "plt.title('Reward Moving Average ({}-episode window)'.format(window))\n",
    "plt.ylabel('Reward')\n",
    "plt.xlabel('Episode')\n",
    "\n",
    "plt.subplot(413)\n",
    "plt.plot(pd.Series(loss_list).rolling(window).mean())\n",
    "plt.title('Loss Moving Average ({}-episode window)'.format(window))\n",
    "plt.ylabel('Loss')\n",
    "plt.xlabel('Episode')\n",
    "\n",
    "plt.subplot(414)\n",
    "plt.plot(e_list)\n",
    "plt.title('Random Action Parameter')\n",
    "plt.ylabel('Chance Random Action')\n",
    "plt.xlabel('Episode')\n",
    "\n",
    "plt.tight_layout(pad=2)\n",
    "plt.show()\n",
    "\n",
    "print \"Score over time: \" +  str(sum(reward_list)/episodes)\n",
    "print \"Final Q-Table Values\"\n",
    "Q = np.zeros((gw.M,gw.N,4))\n",
    "\n",
    "for x in range(gw.M):\n",
    "    for y in range(gw.N):\n",
    "        Q[x,y,:] = model.predict(OH(gw.M*gw.N, state_tup_to_num((x, y))), batch_size=1)\n",
    "\n",
    "v = np.mean(Q, axis = 2)\n",
    "gw.print_v(v)\n",
    "\n",
    "pi = np.argmax(Q, axis = 2)\n",
    "gw.print_policy(pi)"
   ]
  }
 ],
 "metadata": {
  "kernelspec": {
   "display_name": "Python 3",
   "language": "python",
   "name": "python3"
  },
  "language_info": {
   "codemirror_mode": {
    "name": "ipython",
    "version": 2
   },
   "file_extension": ".py",
   "mimetype": "text/x-python",
   "name": "python",
   "nbconvert_exporter": "python",
   "pygments_lexer": "ipython2",
   "version": "2.7.12"
  }
 },
 "nbformat": 4,
 "nbformat_minor": 2
}
